{
  "cells": [
    {
      "cell_type": "code",
      "execution_count": null,
      "metadata": {},
      "outputs": [],
      "source": [
        "%load_ext lab_black"
      ]
    },
    {
      "cell_type": "code",
      "execution_count": 88,
      "metadata": {},
      "outputs": [
        {
          "name": "stdout",
          "output_type": "stream",
          "text": [
            "[Errno 2] No such file or directory: '/Users/matthewhanauer/Desktop/git_repositories/iu_basketball'\n",
            "/mnt/batch/tasks/shared/LS_root/mounts/clusters/matthewhanauer991/code/Users/matthewhanauer99/iu_basketball\n"
          ]
        }
      ],
      "source": [
        "%cd /mnt/batch/tasks/shared/LS_root/mounts/clusters/matthewhanauer991/code/Users/matthewhanauer99/iu_basketball"
      ]
    },
    {
      "cell_type": "code",
      "execution_count": null,
      "metadata": {
        "gather": {
          "logged": 1681165536741
        },
        "jupyter": {
          "outputs_hidden": false,
          "source_hidden": false
        },
        "nteract": {
          "transient": {
            "deleting": false
          }
        }
      },
      "outputs": [],
      "source": [
        "from sklearn.model_selection import RepeatedKFold\n",
        "from sklearn.metrics import r2_score\n",
        "from sklearn.metrics import median_absolute_error\n",
        "import pandas as pd\n",
        "import os\n",
        "from sklearn.metrics import balanced_accuracy_score, f1_score\n",
        "from pyprojroot import here\n",
        "import numpy as np\n",
        "from skimpy import clean_columns\n",
        "from data_cleaning.fun_hot_encode_limit import fun_hot_encode_limit\n",
        "import optuna\n",
        "from pmdarima.model_selection import train_test_split\n",
        "from sklearn.model_selection import TimeSeriesSplit, cross_val_score\n",
        "import joblib\n",
        "import sklearn\n",
        "import lightgbm as lgb\n",
        "\n",
        "path_data = here(\"./data\")\n",
        "os.chdir(path_data)\n",
        "data_iu_analysis = pd.read_parquet(\"data_iu_analysis.parquet\")"
      ]
    },
    {
      "cell_type": "code",
      "execution_count": null,
      "metadata": {},
      "outputs": [],
      "source": [
        "print(joblib.__version__)\n",
        "print(sklearn.__version__)\n",
        "print(lgb.__version__)"
      ]
    },
    {
      "cell_type": "code",
      "execution_count": null,
      "metadata": {
        "gather": {
          "logged": 1681165540824
        },
        "jupyter": {
          "outputs_hidden": false,
          "source_hidden": false
        },
        "nteract": {
          "transient": {
            "deleting": false
          }
        }
      },
      "outputs": [],
      "source": [
        "train_size = round(data_iu_analysis.shape[0] * 0.8)\n",
        "train_size"
      ]
    },
    {
      "cell_type": "code",
      "execution_count": null,
      "metadata": {
        "gather": {
          "logged": 1681165543652
        },
        "jupyter": {
          "outputs_hidden": false,
          "source_hidden": false
        },
        "nteract": {
          "transient": {
            "deleting": false
          }
        }
      },
      "outputs": [],
      "source": [
        "train, test = train_test_split(data_iu_analysis, test_size=train_size)"
      ]
    },
    {
      "cell_type": "code",
      "execution_count": null,
      "metadata": {
        "gather": {
          "logged": 1681165546619
        },
        "jupyter": {
          "outputs_hidden": false,
          "source_hidden": false
        },
        "nteract": {
          "transient": {
            "deleting": false
          }
        }
      },
      "outputs": [],
      "source": [
        "x_train = train.drop(columns=\"tournament_make\")\n",
        "x_test = test.drop(columns=\"tournament_make\")\n",
        "y_train = train[\"tournament_make\"]\n",
        "y_test = test[\"tournament_make\"]"
      ]
    },
    {
      "cell_type": "code",
      "execution_count": null,
      "metadata": {
        "gather": {
          "logged": 1681165719526
        },
        "jupyter": {
          "outputs_hidden": false,
          "source_hidden": false
        },
        "nteract": {
          "transient": {
            "deleting": false
          }
        }
      },
      "outputs": [],
      "source": [
        "# Define objective function for Optuna optimization\n",
        "def objective(trial):\n",
        "    params = {\n",
        "        \"objective\": \"regression\",\n",
        "        \"metric\": \"rmse\",\n",
        "        \"boosting_type\": trial.suggest_categorical(\n",
        "            \"boosting_type\", [\"gbdt\", \"dart\", \"goss\"]\n",
        "        ),\n",
        "        \"verbosity\": -1,\n",
        "        \"lambda_l1\": trial.suggest_loguniform(\"lambda_l1\", 1e-8, 1.0),\n",
        "        \"lambda_l2\": trial.suggest_loguniform(\"lambda_l2\", 1e-8, 1.0),\n",
        "        \"max_depth\": trial.suggest_int(\"max_depth\", 3, 9),\n",
        "        \"learning_rate\": trial.suggest_loguniform(\"learning_rate\", 1e-8, 1.0),\n",
        "        \"min_gain_to_split\": trial.suggest_loguniform(\"min_gain_to_split\", 1e-8, 1.0),\n",
        "        \"min_child_weight\": trial.suggest_int(\"min_child_weight\", 1, 300),\n",
        "        \"subsample\": trial.suggest_discrete_uniform(\"subsample\", 0.1, 1, 0.05),\n",
        "        \"colsample_bytree\": trial.suggest_discrete_uniform(\n",
        "            \"colsample_bytree\", 0.1, 1, 0.05\n",
        "        ),\n",
        "        \"feature_fraction\": trial.suggest_discrete_uniform(\n",
        "            \"feature_fraction\", 0.1, 1, 0.05\n",
        "        ),\n",
        "        \"bagging_fraction\": trial.suggest_discrete_uniform(\n",
        "            \"bagging_fraction\", 0.1, 1, 0.05\n",
        "        ),\n",
        "        \"bagging_freq\": trial.suggest_int(\"bagging_freq\", 1, 10),\n",
        "        \"n_estimators\": trial.suggest_int(\"n_estimators\", 50, 500),\n",
        "        \"num_leaves\": trial.suggest_int(\"num_leaves\", 10, 300),\n",
        "        \"max_bin\": trial.suggest_int(\"max_bin\", 100, 1000),\n",
        "        \"extra_trees\": trial.suggest_categorical(\"extra_trees\", [True, False]),\n",
        "    }\n",
        "\n",
        "    # Set up TimeSeriesSplit cross-validation\n",
        "    tscv = TimeSeriesSplit(n_splits=5)\n",
        "\n",
        "    # Train LightGBM model with the given hyperparameters using cross-validation\n",
        "    model = lgb.LGBMRegressor(**params)\n",
        "    scores = cross_val_score(\n",
        "        model, x_train, y_train, cv=tscv, scoring=\"neg_root_mean_squared_error\"\n",
        "    )\n",
        "    rmse = -1.0 * scores.mean()\n",
        "\n",
        "    return rmse\n",
        "\n",
        "\n",
        "# Run hyperparameter optimization using Optuna\n",
        "study = optuna.create_study(direction=\"minimize\")\n",
        "study.optimize(objective, n_trials=100)"
      ]
    },
    {
      "cell_type": "code",
      "execution_count": 69,
      "metadata": {
        "gather": {
          "logged": 1681165751395
        },
        "jupyter": {
          "outputs_hidden": false,
          "source_hidden": false
        },
        "nteract": {
          "transient": {
            "deleting": false
          }
        }
      },
      "outputs": [
        {
          "data": {
            "text/plain": [
              "LGBMRegressor(bagging_fraction=0.2, bagging_freq=2,\n",
              "              colsample_bytree=0.9500000000000001, extra_trees=True,\n",
              "              feature_fraction=0.4, lambda_l1=1.899753830681315e-08,\n",
              "              lambda_l2=0.0006850951857436992,\n",
              "              learning_rate=9.269203348800349e-06, max_bin=682, max_depth=3,\n",
              "              min_child_weight=280, min_gain_to_split=0.005759422060317709,\n",
              "              n_estimators=193, num_leaves=33, subsample=0.55)"
            ]
          },
          "execution_count": 69,
          "metadata": {},
          "output_type": "execute_result"
        }
      ],
      "source": [
        "# Train final XGBoost model using the best hyperparameters found by Optuna\n",
        "best_params = study.best_params\n",
        "best_model = lgb.LGBMRegressor(**best_params)\n",
        "best_model.fit(x_train, y_train)\n",
        "\n",
        "# Return the best model\n",
        "best_model"
      ]
    },
    {
      "cell_type": "code",
      "execution_count": 86,
      "metadata": {},
      "outputs": [
        {
          "name": "stdout",
          "output_type": "stream",
          "text": [
            "\u001b[0m\u001b[01;32mmodel_iu_bball.jlib\u001b[0m*  \u001b[01;32mmodel_iu_bball.xgb\u001b[0m*  \u001b[01;32mmodel_iu_bball_lgb.jlib\u001b[0m*\n"
          ]
        }
      ],
      "source": [
        "%ls"
      ]
    },
    {
      "cell_type": "code",
      "execution_count": 84,
      "metadata": {
        "gather": {
          "logged": 1681165755221
        },
        "jupyter": {
          "outputs_hidden": false,
          "source_hidden": false
        },
        "nteract": {
          "transient": {
            "deleting": false
          }
        }
      },
      "outputs": [
        {
          "data": {
            "text/plain": [
              "['model_iu_bball_lgb.jlib']"
            ]
          },
          "execution_count": 84,
          "metadata": {},
          "output_type": "execute_result"
        }
      ],
      "source": [
        "path_outputs = here(\"./outputs\")\n",
        "os.chdir(path_outputs)\n",
        "joblib.dump(best_model, \"model_iu_bball_lgb.jlib\")"
      ]
    },
    {
      "cell_type": "code",
      "execution_count": 81,
      "metadata": {},
      "outputs": [],
      "source": [
        "model_iu_bball_lgb = joblib.load(\"model_iu_bball_lgb.jlib\")"
      ]
    },
    {
      "cell_type": "code",
      "execution_count": 82,
      "metadata": {},
      "outputs": [
        {
          "data": {
            "text/plain": [
              "LGBMRegressor(bagging_fraction=0.2, bagging_freq=2,\n",
              "              colsample_bytree=0.9500000000000001, extra_trees=True,\n",
              "              feature_fraction=0.4, lambda_l1=1.899753830681315e-08,\n",
              "              lambda_l2=0.0006850951857436992,\n",
              "              learning_rate=9.269203348800349e-06, max_bin=682, max_depth=3,\n",
              "              min_child_weight=280, min_gain_to_split=0.005759422060317709,\n",
              "              n_estimators=193, num_leaves=33, subsample=0.55)"
            ]
          },
          "execution_count": 82,
          "metadata": {},
          "output_type": "execute_result"
        }
      ],
      "source": [
        "model_iu_bball_lgb"
      ]
    },
    {
      "cell_type": "code",
      "execution_count": 83,
      "metadata": {
        "gather": {
          "logged": 1681165756770
        },
        "jupyter": {
          "outputs_hidden": false,
          "source_hidden": false
        },
        "nteract": {
          "transient": {
            "deleting": false
          }
        }
      },
      "outputs": [],
      "source": [
        "prob = model_iu_bball_lgb.predict(x_test)"
      ]
    },
    {
      "cell_type": "code",
      "execution_count": 73,
      "metadata": {
        "gather": {
          "logged": 1681165758430
        },
        "jupyter": {
          "outputs_hidden": false,
          "source_hidden": false
        },
        "nteract": {
          "transient": {
            "deleting": false
          }
        }
      },
      "outputs": [],
      "source": [
        "from sklearn.metrics import f1_score\n",
        "\n",
        "\n",
        "def find_best_threshold(y_true, y_pred_prob):\n",
        "    \"\"\"\n",
        "    Find the best threshold to use for converting predicted probabilities to binary predictions,\n",
        "    using the F1 score as the metric to optimize for.\n",
        "\n",
        "    :param y_true: true labels, array-like of shape (n_samples,)\n",
        "    :param y_pred_prob: predicted probabilities, array-like of shape (n_samples,)\n",
        "    :return: best threshold value\n",
        "    \"\"\"\n",
        "    thresholds = [0.1, 0.2, 0.3, 0.4, 0.5, 0.6, 0.7, 0.8, 0.9]\n",
        "    best_f1 = 0\n",
        "    best_threshold = 0\n",
        "    for threshold in thresholds:\n",
        "        y_pred = (y_pred_prob >= threshold).astype(int)\n",
        "        f1 = f1_score(y_true, y_pred)\n",
        "        if f1 > best_f1:\n",
        "            best_f1 = f1\n",
        "            best_threshold = threshold\n",
        "    return best_threshold"
      ]
    },
    {
      "cell_type": "code",
      "execution_count": 74,
      "metadata": {
        "gather": {
          "logged": 1681165760852
        },
        "jupyter": {
          "outputs_hidden": false,
          "source_hidden": false
        },
        "nteract": {
          "transient": {
            "deleting": false
          }
        }
      },
      "outputs": [
        {
          "data": {
            "text/plain": [
              "0.1"
            ]
          },
          "execution_count": 74,
          "metadata": {},
          "output_type": "execute_result"
        }
      ],
      "source": [
        "threshold = find_best_threshold(y_true=y_test, y_pred_prob=prob)\n",
        "threshold"
      ]
    },
    {
      "cell_type": "code",
      "execution_count": 75,
      "metadata": {
        "gather": {
          "logged": 1681165763170
        },
        "jupyter": {
          "outputs_hidden": false,
          "source_hidden": false
        },
        "nteract": {
          "transient": {
            "deleting": false
          }
        }
      },
      "outputs": [],
      "source": [
        "prob_threshold = np.where(prob > threshold, 1, 0)"
      ]
    },
    {
      "cell_type": "code",
      "execution_count": 76,
      "metadata": {
        "gather": {
          "logged": 1681165766978
        },
        "jupyter": {
          "outputs_hidden": false,
          "source_hidden": false
        },
        "nteract": {
          "transient": {
            "deleting": false
          }
        }
      },
      "outputs": [
        {
          "data": {
            "text/plain": [
              "0.5"
            ]
          },
          "execution_count": 76,
          "metadata": {},
          "output_type": "execute_result"
        }
      ],
      "source": [
        "balanced_accuracy = balanced_accuracy_score(y_true=y_test, y_pred=prob_threshold)\n",
        "balanced_accuracy"
      ]
    },
    {
      "cell_type": "code",
      "execution_count": 77,
      "metadata": {
        "gather": {
          "logged": 1681165769415
        },
        "jupyter": {
          "outputs_hidden": false,
          "source_hidden": false
        },
        "nteract": {
          "transient": {
            "deleting": false
          }
        }
      },
      "outputs": [
        {
          "data": {
            "text/plain": [
              "0.7311827956989247"
            ]
          },
          "execution_count": 77,
          "metadata": {},
          "output_type": "execute_result"
        }
      ],
      "source": [
        "f1_accuracy = f1_score(y_true=y_test, y_pred=prob_threshold)\n",
        "f1_accuracy"
      ]
    }
  ],
  "metadata": {
    "kernel_info": {
      "name": "python38-azureml"
    },
    "kernelspec": {
      "display_name": "Python 3.8 - AzureML",
      "language": "python",
      "name": "python38-azureml"
    },
    "language_info": {
      "codemirror_mode": {
        "name": "ipython",
        "version": 3
      },
      "file_extension": ".py",
      "mimetype": "text/x-python",
      "name": "python",
      "nbconvert_exporter": "python",
      "pygments_lexer": "ipython3",
      "version": "3.8.10"
    },
    "microsoft": {
      "host": {
        "AzureML": {
          "notebookHasBeenCompleted": true
        }
      },
      "ms_spell_check": {
        "ms_spell_check_language": "en"
      }
    },
    "nteract": {
      "version": "nteract-front-end@1.0.0"
    }
  },
  "nbformat": 4,
  "nbformat_minor": 2
}
