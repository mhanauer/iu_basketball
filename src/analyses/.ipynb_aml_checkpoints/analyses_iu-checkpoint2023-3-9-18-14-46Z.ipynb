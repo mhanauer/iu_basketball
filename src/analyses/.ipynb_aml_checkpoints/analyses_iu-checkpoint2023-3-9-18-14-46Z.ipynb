{
  "cells": [
    {
      "cell_type": "code",
      "source": [
        "%load_ext lab_black"
      ],
      "outputs": [
        {
          "output_type": "stream",
          "name": "stdout",
          "text": "The lab_black extension is already loaded. To reload it, use:\n  %reload_ext lab_black\n"
        }
      ],
      "execution_count": 3,
      "metadata": {}
    },
    {
      "cell_type": "code",
      "source": [
        "from mlxtend.regressor import StackingCVRegressor\n",
        "from skopt import BayesSearchCV\n",
        "from sklearn.model_selection import RepeatedKFold\n",
        "import xgboost as xgb\n",
        "import lightgbm as lgb\n",
        "from sklearn.ensemble import HistGradientBoostingRegressor\n",
        "from analysis.fun_regressor_stacking_grad_boost_bayes import fun_regressor_stacking_grad_boost_bayes\n",
        "import pandas as pd\n",
        "import os\n",
        "from pyprojroot import here\n",
        "import numpy as np\n",
        "from skimpy import clean_columns\n",
        "from data_cleaning.fun_hot_encode_limit import fun_hot_encode_limit\n",
        "\n",
        "path_data = here(\"./data\")\n",
        "os.chdir(path_data)\n",
        "data_iu_analysis = pd.read_parquet(\"data_iu_analysis.parquet\")\n"
      ],
      "outputs": [],
      "execution_count": 5,
      "metadata": {
        "jupyter": {
          "source_hidden": false,
          "outputs_hidden": false
        },
        "nteract": {
          "transient": {
            "deleting": false
          }
        },
        "gather": {
          "logged": 1681064054895
        }
      }
    },
    {
      "cell_type": "code",
      "source": [
        "data_iu_analysis"
      ],
      "outputs": [
        {
          "output_type": "execute_result",
          "execution_count": 4,
          "data": {
            "text/plain": "       season   w   l  w_l_% w_c l_c  w_l_%_c    srs    sos  ps_g  pa_g  \\\n0  2022-01-01  23  12  0.657  12   8    0.600  14.96   8.90  74.7  68.7   \n1  2021-01-01  21  14  0.600   9  11    0.450  12.71   8.08  70.8  66.2   \n2  2020-01-01  12  15  0.444   7  12    0.368  12.79  12.45  69.7  69.4   \n3  2019-01-01  20  12  0.625   9  11    0.450  15.07  10.35  71.4  66.7   \n4  2018-01-01  19  16  0.543   8  12    0.400  13.82  10.10  71.5  67.8   \n..        ...  ..  ..    ...  ..  ..      ...    ...    ...   ...   ...   \n69 1953-01-01  20   4  0.833  12   2    0.857  17.47   9.13  75.5  67.2   \n70 1952-01-01  23   3  0.885  17   1    0.944  19.98   8.29  81.2  69.5   \n71 1951-01-01  16   6  0.727   9   5    0.643  12.16   5.29  73.7  66.8   \n72 1950-01-01  19   3  0.864  12   2    0.857  16.94   5.85  64.5  53.3   \n73 1949-01-01  17   5  0.773   7   5    0.583  12.00   5.00  64.5  56.5   \n\n    ap_pre  ap_high  ap_final  seed  tournament_make  \n0     13.0     10.0      21.0   4.0                1  \n1      NaN      NaN       NaN  12.0                1  \n2      NaN      NaN       NaN   NaN                0  \n3      NaN      NaN       NaN   NaN                0  \n4      NaN     21.0       NaN   NaN                0  \n..     ...      ...       ...   ...              ...  \n69     NaN      1.0       4.0   NaN                1  \n70     NaN      1.0       1.0   NaN                1  \n71     NaN      4.0       NaN   NaN                0  \n72     NaN      3.0       7.0   NaN                0  \n73     NaN      4.0      20.0   NaN                0  \n\n[74 rows x 16 columns]",
            "text/html": "<div>\n<style scoped>\n    .dataframe tbody tr th:only-of-type {\n        vertical-align: middle;\n    }\n\n    .dataframe tbody tr th {\n        vertical-align: top;\n    }\n\n    .dataframe thead th {\n        text-align: right;\n    }\n</style>\n<table border=\"1\" class=\"dataframe\">\n  <thead>\n    <tr style=\"text-align: right;\">\n      <th></th>\n      <th>season</th>\n      <th>w</th>\n      <th>l</th>\n      <th>w_l_%</th>\n      <th>w_c</th>\n      <th>l_c</th>\n      <th>w_l_%_c</th>\n      <th>srs</th>\n      <th>sos</th>\n      <th>ps_g</th>\n      <th>pa_g</th>\n      <th>ap_pre</th>\n      <th>ap_high</th>\n      <th>ap_final</th>\n      <th>seed</th>\n      <th>tournament_make</th>\n    </tr>\n  </thead>\n  <tbody>\n    <tr>\n      <th>0</th>\n      <td>2022-01-01</td>\n      <td>23</td>\n      <td>12</td>\n      <td>0.657</td>\n      <td>12</td>\n      <td>8</td>\n      <td>0.600</td>\n      <td>14.96</td>\n      <td>8.90</td>\n      <td>74.7</td>\n      <td>68.7</td>\n      <td>13.0</td>\n      <td>10.0</td>\n      <td>21.0</td>\n      <td>4.0</td>\n      <td>1</td>\n    </tr>\n    <tr>\n      <th>1</th>\n      <td>2021-01-01</td>\n      <td>21</td>\n      <td>14</td>\n      <td>0.600</td>\n      <td>9</td>\n      <td>11</td>\n      <td>0.450</td>\n      <td>12.71</td>\n      <td>8.08</td>\n      <td>70.8</td>\n      <td>66.2</td>\n      <td>NaN</td>\n      <td>NaN</td>\n      <td>NaN</td>\n      <td>12.0</td>\n      <td>1</td>\n    </tr>\n    <tr>\n      <th>2</th>\n      <td>2020-01-01</td>\n      <td>12</td>\n      <td>15</td>\n      <td>0.444</td>\n      <td>7</td>\n      <td>12</td>\n      <td>0.368</td>\n      <td>12.79</td>\n      <td>12.45</td>\n      <td>69.7</td>\n      <td>69.4</td>\n      <td>NaN</td>\n      <td>NaN</td>\n      <td>NaN</td>\n      <td>NaN</td>\n      <td>0</td>\n    </tr>\n    <tr>\n      <th>3</th>\n      <td>2019-01-01</td>\n      <td>20</td>\n      <td>12</td>\n      <td>0.625</td>\n      <td>9</td>\n      <td>11</td>\n      <td>0.450</td>\n      <td>15.07</td>\n      <td>10.35</td>\n      <td>71.4</td>\n      <td>66.7</td>\n      <td>NaN</td>\n      <td>NaN</td>\n      <td>NaN</td>\n      <td>NaN</td>\n      <td>0</td>\n    </tr>\n    <tr>\n      <th>4</th>\n      <td>2018-01-01</td>\n      <td>19</td>\n      <td>16</td>\n      <td>0.543</td>\n      <td>8</td>\n      <td>12</td>\n      <td>0.400</td>\n      <td>13.82</td>\n      <td>10.10</td>\n      <td>71.5</td>\n      <td>67.8</td>\n      <td>NaN</td>\n      <td>21.0</td>\n      <td>NaN</td>\n      <td>NaN</td>\n      <td>0</td>\n    </tr>\n    <tr>\n      <th>...</th>\n      <td>...</td>\n      <td>...</td>\n      <td>...</td>\n      <td>...</td>\n      <td>...</td>\n      <td>...</td>\n      <td>...</td>\n      <td>...</td>\n      <td>...</td>\n      <td>...</td>\n      <td>...</td>\n      <td>...</td>\n      <td>...</td>\n      <td>...</td>\n      <td>...</td>\n      <td>...</td>\n    </tr>\n    <tr>\n      <th>69</th>\n      <td>1953-01-01</td>\n      <td>20</td>\n      <td>4</td>\n      <td>0.833</td>\n      <td>12</td>\n      <td>2</td>\n      <td>0.857</td>\n      <td>17.47</td>\n      <td>9.13</td>\n      <td>75.5</td>\n      <td>67.2</td>\n      <td>NaN</td>\n      <td>1.0</td>\n      <td>4.0</td>\n      <td>NaN</td>\n      <td>1</td>\n    </tr>\n    <tr>\n      <th>70</th>\n      <td>1952-01-01</td>\n      <td>23</td>\n      <td>3</td>\n      <td>0.885</td>\n      <td>17</td>\n      <td>1</td>\n      <td>0.944</td>\n      <td>19.98</td>\n      <td>8.29</td>\n      <td>81.2</td>\n      <td>69.5</td>\n      <td>NaN</td>\n      <td>1.0</td>\n      <td>1.0</td>\n      <td>NaN</td>\n      <td>1</td>\n    </tr>\n    <tr>\n      <th>71</th>\n      <td>1951-01-01</td>\n      <td>16</td>\n      <td>6</td>\n      <td>0.727</td>\n      <td>9</td>\n      <td>5</td>\n      <td>0.643</td>\n      <td>12.16</td>\n      <td>5.29</td>\n      <td>73.7</td>\n      <td>66.8</td>\n      <td>NaN</td>\n      <td>4.0</td>\n      <td>NaN</td>\n      <td>NaN</td>\n      <td>0</td>\n    </tr>\n    <tr>\n      <th>72</th>\n      <td>1950-01-01</td>\n      <td>19</td>\n      <td>3</td>\n      <td>0.864</td>\n      <td>12</td>\n      <td>2</td>\n      <td>0.857</td>\n      <td>16.94</td>\n      <td>5.85</td>\n      <td>64.5</td>\n      <td>53.3</td>\n      <td>NaN</td>\n      <td>3.0</td>\n      <td>7.0</td>\n      <td>NaN</td>\n      <td>0</td>\n    </tr>\n    <tr>\n      <th>73</th>\n      <td>1949-01-01</td>\n      <td>17</td>\n      <td>5</td>\n      <td>0.773</td>\n      <td>7</td>\n      <td>5</td>\n      <td>0.583</td>\n      <td>12.00</td>\n      <td>5.00</td>\n      <td>64.5</td>\n      <td>56.5</td>\n      <td>NaN</td>\n      <td>4.0</td>\n      <td>20.0</td>\n      <td>NaN</td>\n      <td>0</td>\n    </tr>\n  </tbody>\n</table>\n<p>74 rows × 16 columns</p>\n</div>"
          },
          "metadata": {}
        }
      ],
      "execution_count": 4,
      "metadata": {
        "jupyter": {
          "source_hidden": false,
          "outputs_hidden": false
        },
        "nteract": {
          "transient": {
            "deleting": false
          }
        },
        "gather": {
          "logged": 1681063144334
        }
      }
    }
  ],
  "metadata": {
    "kernelspec": {
      "name": "python38-azureml",
      "language": "python",
      "display_name": "Python 3.8 - AzureML"
    },
    "language_info": {
      "name": "python",
      "version": "3.8.10",
      "mimetype": "text/x-python",
      "codemirror_mode": {
        "name": "ipython",
        "version": 3
      },
      "pygments_lexer": "ipython3",
      "nbconvert_exporter": "python",
      "file_extension": ".py"
    },
    "microsoft": {
      "ms_spell_check": {
        "ms_spell_check_language": "en"
      },
      "host": {
        "AzureML": {
          "notebookHasBeenCompleted": true
        }
      }
    },
    "kernel_info": {
      "name": "python38-azureml"
    },
    "nteract": {
      "version": "nteract-front-end@1.0.0"
    }
  },
  "nbformat": 4,
  "nbformat_minor": 2
}