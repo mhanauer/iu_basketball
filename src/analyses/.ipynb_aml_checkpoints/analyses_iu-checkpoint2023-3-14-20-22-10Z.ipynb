{
  "cells": [
    {
      "cell_type": "code",
      "source": [
        "%load_ext lab_black"
      ],
      "outputs": [],
      "execution_count": null,
      "metadata": {}
    },
    {
      "cell_type": "code",
      "source": [
        "from mlxtend.regressor import StackingCVRegressor\n",
        "from skopt import BayesSearchCV\n",
        "from sklearn.model_selection import RepeatedKFold\n",
        "import xgboost as xgb\n",
        "import lightgbm as lgb\n",
        "from sklearn.ensemble import HistGradientBoostingRegressor\n",
        "\n",
        "from sklearn.metrics import r2_score\n",
        "from sklearn.metrics import median_absolute_error\n",
        "import pandas as pd\n",
        "import os\n",
        "from pyprojroot import here\n",
        "import numpy as np\n",
        "from skimpy import clean_columns\n",
        "from data_cleaning.fun_hot_encode_limit import fun_hot_encode_limit\n",
        "from pmdarima.model_selection import train_test_split\n",
        "import optuna\n",
        "import pandas as pd\n",
        "import xgboost as xgb\n",
        "from sklearn.metrics import mean_squared_error\n",
        "from sklearn.metrics import r2_score\n",
        "\n",
        "from sklearn.model_selection import TimeSeriesSplit, cross_val_score\n",
        "import joblib\n",
        "\n",
        "path_data = here(\"./data\")\n",
        "os.chdir(path_data)\n",
        "data_iu_analysis = pd.read_parquet(\"data_iu_analysis.parquet\")"
      ],
      "outputs": [],
      "execution_count": null,
      "metadata": {
        "jupyter": {
          "source_hidden": false,
          "outputs_hidden": false
        },
        "nteract": {
          "transient": {
            "deleting": false
          }
        },
        "gather": {
          "logged": 1681503245516
        }
      }
    },
    {
      "cell_type": "code",
      "source": [
        "test_size = round(data_iu_analysis.shape[0] * 0.2)"
      ],
      "outputs": [],
      "execution_count": null,
      "metadata": {
        "jupyter": {
          "source_hidden": false,
          "outputs_hidden": false
        },
        "nteract": {
          "transient": {
            "deleting": false
          }
        },
        "gather": {
          "logged": 1681503247749
        }
      }
    },
    {
      "cell_type": "code",
      "source": [
        "train, test = train_test_split(data_iu_analysis, test_size=test_size)"
      ],
      "outputs": [],
      "execution_count": null,
      "metadata": {
        "jupyter": {
          "source_hidden": false,
          "outputs_hidden": false
        },
        "nteract": {
          "transient": {
            "deleting": false
          }
        },
        "gather": {
          "logged": 1681503248529
        }
      }
    },
    {
      "cell_type": "code",
      "source": [
        "x_train = train.drop(columns=\"tournament_make\")\n",
        "x_test = test.drop(columns=\"tournament_make\")\n",
        "y_train = train[\"tournament_make\"]\n",
        "y_test = test[\"tournament_make\"]"
      ],
      "outputs": [],
      "execution_count": null,
      "metadata": {
        "jupyter": {
          "source_hidden": false,
          "outputs_hidden": false
        },
        "nteract": {
          "transient": {
            "deleting": false
          }
        },
        "gather": {
          "logged": 1681503249917
        }
      }
    },
    {
      "cell_type": "code",
      "source": [
        "%pip install xgboost==1.7.3"
      ],
      "outputs": [],
      "execution_count": null,
      "metadata": {
        "jupyter": {
          "source_hidden": false,
          "outputs_hidden": false
        },
        "nteract": {
          "transient": {
            "deleting": false
          }
        }
      }
    },
    {
      "cell_type": "code",
      "source": [
        "print(xgb.__version__)"
      ],
      "outputs": [],
      "execution_count": null,
      "metadata": {
        "jupyter": {
          "source_hidden": false,
          "outputs_hidden": false
        },
        "nteract": {
          "transient": {
            "deleting": false
          }
        },
        "gather": {
          "logged": 1681503252418
        }
      }
    },
    {
      "cell_type": "code",
      "source": [
        "import optuna\n",
        "import pandas as pd\n",
        "import xgboost as xgb\n",
        "from sklearn.metrics import accuracy_score\n",
        "from sklearn.model_selection import train_test_split\n",
        "\n",
        "\n",
        "def objective(trial):\n",
        "    # Define the hyperparameters to search over\n",
        "    params = {\n",
        "        \"learning_rate\": trial.suggest_loguniform(\"learning_rate\", 1e-3, 1),\n",
        "        \"max_depth\": trial.suggest_int(\"max_depth\", 3, 10),\n",
        "        \"subsample\": trial.suggest_discrete_uniform(\"subsample\", 0.5, 0.9, 0.1),\n",
        "        \"colsample_bytree\": trial.suggest_discrete_uniform(\n",
        "            \"colsample_bytree\", 0.5, 0.9, 0.1\n",
        "        ),\n",
        "        \"n_estimators\": trial.suggest_int(\"n_estimators\", 50, 300),\n",
        "        \"objective\": \"binary:logistic\",\n",
        "        \"random_state\": 42,\n",
        "    }\n",
        "\n",
        "    # Train the XGBoost model with the given hyperparameters\n",
        "    model = xgb.XGBClassifier(**params)\n",
        "    model.fit(x_train, y_train)\n",
        "\n",
        "    # Evaluate the model on the test set and return the accuracy as the objective value\n",
        "    preds = model.predict(x_train)\n",
        "    accuracy = accuracy_score(y_train, preds)\n",
        "    return accuracy\n",
        "\n",
        "\n",
        "# Create an Optuna study and optimize the objective function\n",
        "study = optuna.create_study(direction=\"maximize\")\n",
        "study.optimize(objective, n_trials=100)\n",
        "\n",
        "# Print the best hyperparameters found by Optuna\n",
        "print(\"Best hyperparameters:\", study.best_params)\n",
        "\n",
        "# Train the final model with the best hyperparameters on the full dataset\n",
        "best_model = xgb.XGBClassifier(**study.best_params)\n",
        "best_model.fit(x_train, y_train)"
      ],
      "outputs": [],
      "execution_count": null,
      "metadata": {
        "jupyter": {
          "source_hidden": false,
          "outputs_hidden": false
        },
        "nteract": {
          "transient": {
            "deleting": false
          }
        },
        "gather": {
          "logged": 1681503282831
        }
      }
    },
    {
      "cell_type": "code",
      "source": [
        "path_outputs = here(\"./outputs\")\n",
        "os.chdir(path_outputs)\n",
        "joblib.dump(best_model, \"model_iu_bball.jlib\")"
      ],
      "outputs": [],
      "execution_count": null,
      "metadata": {
        "jupyter": {
          "source_hidden": false,
          "outputs_hidden": false
        },
        "nteract": {
          "transient": {
            "deleting": false
          }
        },
        "gather": {
          "logged": 1681503378074
        }
      }
    },
    {
      "cell_type": "code",
      "source": [
        "prob = best_model.predict_proba(x_test)[:, 1]"
      ],
      "outputs": [],
      "execution_count": null,
      "metadata": {
        "jupyter": {
          "source_hidden": false,
          "outputs_hidden": false
        },
        "nteract": {
          "transient": {
            "deleting": false
          }
        },
        "gather": {
          "logged": 1681503662124
        }
      }
    },
    {
      "cell_type": "code",
      "source": [
        "prob"
      ],
      "outputs": [],
      "execution_count": null,
      "metadata": {
        "jupyter": {
          "source_hidden": false,
          "outputs_hidden": false
        },
        "nteract": {
          "transient": {
            "deleting": false
          }
        },
        "gather": {
          "logged": 1681503663961
        }
      }
    },
    {
      "cell_type": "code",
      "source": [
        "from sklearn.metrics import f1_score\n",
        "\n",
        "\n",
        "def find_best_threshold(y_true, y_pred_prob):\n",
        "    \"\"\"\n",
        "    Find the best threshold to use for converting predicted probabilities to binary predictions,\n",
        "    using the F1 score as the metric to optimize for.\n",
        "\n",
        "    :param y_true: true labels, array-like of shape (n_samples,)\n",
        "    :param y_pred_prob: predicted probabilities, array-like of shape (n_samples,)\n",
        "    :return: best threshold value\n",
        "    \"\"\"\n",
        "    thresholds = [0.1, 0.2, 0.3, 0.4, 0.5, 0.6, 0.7, 0.8, 0.9]\n",
        "    best_f1 = 0\n",
        "    best_threshold = 0\n",
        "    for threshold in thresholds:\n",
        "        y_pred = (y_pred_prob >= threshold).astype(int)\n",
        "        f1 = f1_score(y_true, y_pred)\n",
        "        if f1 > best_f1:\n",
        "            best_f1 = f1\n",
        "            best_threshold = threshold\n",
        "    return best_threshold"
      ],
      "outputs": [],
      "execution_count": null,
      "metadata": {
        "jupyter": {
          "source_hidden": false,
          "outputs_hidden": false
        },
        "nteract": {
          "transient": {
            "deleting": false
          }
        },
        "gather": {
          "logged": 1681503667766
        }
      }
    },
    {
      "cell_type": "code",
      "source": [
        "threshold = find_best_threshold(y_true=y_test, y_pred_prob=prob)\n",
        "threshold"
      ],
      "outputs": [],
      "execution_count": null,
      "metadata": {
        "jupyter": {
          "source_hidden": false,
          "outputs_hidden": false
        },
        "nteract": {
          "transient": {
            "deleting": false
          }
        },
        "gather": {
          "logged": 1681503669870
        }
      }
    },
    {
      "cell_type": "code",
      "source": [
        "prob_threshold = np.where(prob > threshold, 1, 0)"
      ],
      "outputs": [],
      "execution_count": null,
      "metadata": {
        "jupyter": {
          "source_hidden": false,
          "outputs_hidden": false
        },
        "nteract": {
          "transient": {
            "deleting": false
          }
        },
        "gather": {
          "logged": 1681503675785
        }
      }
    },
    {
      "cell_type": "code",
      "source": [
        "from sklearn.metrics import balanced_accuracy_score, f1_score"
      ],
      "outputs": [],
      "execution_count": null,
      "metadata": {
        "jupyter": {
          "source_hidden": false,
          "outputs_hidden": false
        },
        "nteract": {
          "transient": {
            "deleting": false
          }
        },
        "gather": {
          "logged": 1681503677170
        }
      }
    },
    {
      "cell_type": "code",
      "source": [
        "balanced_accuracy = balanced_accuracy_score(y_true=y_test, y_pred=prob_threshold)\n",
        "balanced_accuracy"
      ],
      "outputs": [],
      "execution_count": null,
      "metadata": {
        "jupyter": {
          "source_hidden": false,
          "outputs_hidden": false
        },
        "nteract": {
          "transient": {
            "deleting": false
          }
        },
        "gather": {
          "logged": 1681503678737
        }
      }
    },
    {
      "cell_type": "code",
      "source": [
        "f1_accuracy = f1_score(y_true=y_test, y_pred=prob_threshold)\n",
        "f1_accuracy"
      ],
      "outputs": [],
      "execution_count": null,
      "metadata": {
        "jupyter": {
          "source_hidden": false,
          "outputs_hidden": false
        },
        "nteract": {
          "transient": {
            "deleting": false
          }
        },
        "gather": {
          "logged": 1681503680531
        }
      }
    }
  ],
  "metadata": {
    "kernelspec": {
      "name": "python38-azureml",
      "language": "python",
      "display_name": "Python 3.8 - AzureML"
    },
    "language_info": {
      "name": "python",
      "version": "3.8.10",
      "mimetype": "text/x-python",
      "codemirror_mode": {
        "name": "ipython",
        "version": 3
      },
      "pygments_lexer": "ipython3",
      "nbconvert_exporter": "python",
      "file_extension": ".py"
    },
    "microsoft": {
      "ms_spell_check": {
        "ms_spell_check_language": "en"
      },
      "host": {
        "AzureML": {
          "notebookHasBeenCompleted": true
        }
      }
    },
    "kernel_info": {
      "name": "python38-azureml"
    },
    "nteract": {
      "version": "nteract-front-end@1.0.0"
    }
  },
  "nbformat": 4,
  "nbformat_minor": 2
}