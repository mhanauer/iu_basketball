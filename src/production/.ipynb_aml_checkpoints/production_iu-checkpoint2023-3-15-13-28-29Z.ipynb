{
  "cells": [
    {
      "cell_type": "code",
      "source": [
        "%load_ext lab_black"
      ],
      "outputs": [],
      "execution_count": 1,
      "metadata": {}
    },
    {
      "cell_type": "code",
      "source": [
        "import lightgbm as lgb\n",
        "\n",
        "import pandas as pd\n",
        "import os\n",
        "from pyprojroot import here\n",
        "import numpy as np\n",
        "from skimpy import clean_columns\n",
        "import optuna\n",
        "import joblib\n",
        "import sklearn\n",
        "\n",
        "path_outputs = here(\"./outputs\")\n",
        "os.chdir(path_outputs)\n",
        "\n",
        "model_iu_bball = joblib.load(\"model_iu_bball.jlib\")\n",
        "path_data = here(\"./data\")\n",
        "os.chdir(path_data)\n",
        "data_iu_analysis = pd.read_parquet(\"data_iu_analysis.parquet\")"
      ],
      "outputs": [],
      "execution_count": 3,
      "metadata": {
        "gather": {
          "logged": 1681565011364
        },
        "jupyter": {
          "outputs_hidden": false,
          "source_hidden": false
        },
        "nteract": {
          "transient": {
            "deleting": false
          }
        }
      }
    },
    {
      "cell_type": "code",
      "source": [
        "print(lgb.__version__)\n",
        "print(joblib.__version__)\n",
        "print(sklearn.__version__)"
      ],
      "outputs": [
        {
          "output_type": "stream",
          "name": "stdout",
          "text": "3.2.1\n1.2.0\n1.0.2\n"
        }
      ],
      "execution_count": 3,
      "metadata": {
        "gather": {
          "logged": 1681486236556
        }
      }
    },
    {
      "cell_type": "code",
      "source": [
        "model_iu_bball"
      ],
      "outputs": [
        {
          "output_type": "execute_result",
          "execution_count": 4,
          "data": {
            "text/plain": "LGBMClassifier(colsample_bytree=0.8, learning_rate=0.0622337477029989,\n               max_depth=5, n_estimators=181, subsample=0.6)"
          },
          "metadata": {}
        }
      ],
      "execution_count": 4,
      "metadata": {
        "gather": {
          "logged": 1681565016065
        }
      }
    },
    {
      "cell_type": "code",
      "source": [
        "prediction = model_iu_bball.predict_proba(\n",
        "    data_iu_analysis.drop(columns=\"tournament_make\").head(1)\n",
        ")\n",
        "percentage_prediction = np.round(prediction[0] * 100, 0)[1]"
      ],
      "outputs": [],
      "execution_count": 20,
      "metadata": {
        "gather": {
          "logged": 1681565248175
        }
      }
    },
    {
      "cell_type": "code",
      "source": [
        "percentage_prediction"
      ],
      "outputs": [
        {
          "output_type": "execute_result",
          "execution_count": 21,
          "data": {
            "text/plain": "94.0"
          },
          "metadata": {}
        }
      ],
      "execution_count": 21,
      "metadata": {
        "jupyter": {
          "source_hidden": false,
          "outputs_hidden": false
        },
        "nteract": {
          "transient": {
            "deleting": false
          }
        },
        "gather": {
          "logged": 1681565250498
        }
      }
    },
    {
      "cell_type": "code",
      "source": [
        "percentage_prediction"
      ],
      "outputs": [
        {
          "output_type": "execute_result",
          "execution_count": 6,
          "data": {
            "text/plain": "array([ 6., 94.])"
          },
          "metadata": {}
        }
      ],
      "execution_count": 6,
      "metadata": {
        "jupyter": {
          "source_hidden": false,
          "outputs_hidden": false
        },
        "nteract": {
          "transient": {
            "deleting": false
          }
        },
        "gather": {
          "logged": 1681565038015
        }
      }
    },
    {
      "cell_type": "code",
      "source": [
        "percentage_prediction"
      ],
      "outputs": [
        {
          "output_type": "execute_result",
          "execution_count": 26,
          "data": {
            "text/plain": "40.0"
          },
          "metadata": {}
        }
      ],
      "execution_count": 26,
      "metadata": {}
    }
  ],
  "metadata": {
    "kernel_info": {
      "name": "python38-azureml"
    },
    "kernelspec": {
      "name": "python38-azureml",
      "language": "python",
      "display_name": "Python 3.8 - AzureML"
    },
    "language_info": {
      "name": "python",
      "version": "3.8.10",
      "mimetype": "text/x-python",
      "codemirror_mode": {
        "name": "ipython",
        "version": 3
      },
      "pygments_lexer": "ipython3",
      "nbconvert_exporter": "python",
      "file_extension": ".py"
    },
    "microsoft": {
      "host": {
        "AzureML": {
          "notebookHasBeenCompleted": true
        }
      },
      "ms_spell_check": {
        "ms_spell_check_language": "en"
      }
    },
    "nteract": {
      "version": "nteract-front-end@1.0.0"
    }
  },
  "nbformat": 4,
  "nbformat_minor": 2
}