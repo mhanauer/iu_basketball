{
  "cells": [
    {
      "cell_type": "code",
      "source": [
        "%load_ext lab_black"
      ],
      "outputs": [],
      "execution_count": 1,
      "metadata": {}
    },
    {
      "cell_type": "markdown",
      "source": [
        "Step: Load data"
      ],
      "metadata": {
        "nteract": {
          "transient": {
            "deleting": false
          }
        }
      }
    },
    {
      "cell_type": "code",
      "source": [
        "import pandas as pd\n",
        "import os\n",
        "from pyprojroot import here\n",
        "import numpy as np\n",
        "from skimpy import clean_columns\n",
        "from data_cleaning.fun_hot_encode_limit import fun_hot_encode_limit\n",
        "\n",
        "path_data = here(\"./data\")\n",
        "os.chdir(path_data)\n",
        "data_iu = pd.read_csv(\"iu_data.csv\")\n",
        "data_iu = clean_columns(data_iu)"
      ],
      "outputs": [
        {
          "output_type": "display_data",
          "data": {
            "text/plain": "\u001b[1;36m17\u001b[0m column names have been cleaned\n",
            "text/html": "<pre style=\"white-space:pre;overflow-x:auto;line-height:normal;font-family:Menlo,'DejaVu Sans Mono',consolas,'Courier New',monospace\"><span style=\"color: #008080; text-decoration-color: #008080; font-weight: bold\">17</span> column names have been cleaned\n</pre>\n"
          },
          "metadata": {}
        }
      ],
      "execution_count": 2,
      "metadata": {
        "jupyter": {
          "source_hidden": false,
          "outputs_hidden": false
        },
        "nteract": {
          "transient": {
            "deleting": false
          }
        },
        "gather": {
          "logged": 1681165359399
        }
      }
    },
    {
      "cell_type": "markdown",
      "source": [
        "Step: Drop year"
      ],
      "metadata": {
        "nteract": {
          "transient": {
            "deleting": false
          }
        }
      }
    },
    {
      "cell_type": "code",
      "source": [
        "data_iu[\"season\"] = data_iu[\"season\"].apply(lambda x: x.split(\"-\")[0])\n",
        "\n",
        "data_iu[\"season\"] = pd.to_datetime(data_iu[\"season\"], format=\"%Y\")\n",
        "\n",
        "data_iu_update = data_iu.query(\"season >= '1949-01-01'\").drop(columns=[\"coach_es\"])"
      ],
      "outputs": [],
      "execution_count": 4,
      "metadata": {
        "jupyter": {
          "source_hidden": false,
          "outputs_hidden": false
        },
        "nteract": {
          "transient": {
            "deleting": false
          }
        },
        "gather": {
          "logged": 1681165373501
        }
      }
    },
    {
      "cell_type": "markdown",
      "source": [
        "Step: Create the outcome variable"
      ],
      "metadata": {
        "nteract": {
          "transient": {
            "deleting": false
          }
        }
      }
    },
    {
      "cell_type": "code",
      "source": [
        "data_ncaa_tournament = pd.get_dummies(data_iu_update[\"ncaa_tournament\"], dummy_na=True)\n",
        "data_ncaa_tournament = clean_columns(data_ncaa_tournament)\n",
        "data_ncaa_tournament = data_ncaa_tournament.rename(columns={\"nan\": \"tournament_make\"})\n",
        "data_ncaa_tournament = np.where(data_ncaa_tournament[\"tournament_make\"] == 0, 1, 0)"
      ],
      "outputs": [
        {
          "output_type": "display_data",
          "data": {
            "text/plain": "\u001b[1;36m7\u001b[0m column names have been cleaned\n",
            "text/html": "<pre style=\"white-space:pre;overflow-x:auto;line-height:normal;font-family:Menlo,'DejaVu Sans Mono',consolas,'Courier New',monospace\"><span style=\"color: #008080; text-decoration-color: #008080; font-weight: bold\">7</span> column names have been cleaned\n</pre>\n"
          },
          "metadata": {}
        }
      ],
      "execution_count": 5,
      "metadata": {
        "jupyter": {
          "source_hidden": false,
          "outputs_hidden": false
        },
        "nteract": {
          "transient": {
            "deleting": false
          }
        },
        "gather": {
          "logged": 1681165374895
        }
      }
    },
    {
      "cell_type": "markdown",
      "source": [
        "Step: Drop date and variables"
      ],
      "metadata": {
        "nteract": {
          "transient": {
            "deleting": false
          }
        }
      }
    },
    {
      "cell_type": "code",
      "source": [
        "data_iu_encoded = pd.concat(\n",
        "    [\n",
        "        data_iu_update.drop(columns=\"ncaa_tournament\"),\n",
        "        pd.DataFrame(data_ncaa_tournament),\n",
        "    ],\n",
        "    axis=1,\n",
        ").rename(columns={0: \"tournament_make\"})"
      ],
      "outputs": [],
      "execution_count": 6,
      "metadata": {
        "jupyter": {
          "source_hidden": false,
          "outputs_hidden": false
        },
        "nteract": {
          "transient": {
            "deleting": false
          }
        },
        "gather": {
          "logged": 1681165377341
        }
      }
    },
    {
      "cell_type": "markdown",
      "source": [
        "Step: Remove *"
      ],
      "metadata": {
        "nteract": {
          "transient": {
            "deleting": false
          }
        }
      }
    },
    {
      "cell_type": "code",
      "source": [
        "columns_to_remove_asterisk = data_iu_encoded.columns\n",
        "columns_to_remove_asterisk"
      ],
      "outputs": [
        {
          "output_type": "execute_result",
          "execution_count": 7,
          "data": {
            "text/plain": "Index(['season', 'w', 'l', 'w_l_%', 'w_c', 'l_c', 'w_l_%_c', 'srs', 'sos',\n       'ps_g', 'pa_g', 'ap_pre', 'ap_high', 'ap_final', 'seed',\n       'tournament_make'],\n      dtype='object')"
          },
          "metadata": {}
        }
      ],
      "execution_count": 7,
      "metadata": {
        "jupyter": {
          "source_hidden": false,
          "outputs_hidden": false
        },
        "nteract": {
          "transient": {
            "deleting": false
          }
        },
        "gather": {
          "logged": 1681165379786
        }
      }
    },
    {
      "cell_type": "code",
      "source": [
        "for col in columns_to_remove_asterisk:\n",
        "    data_iu_encoded[col] = data_iu_encoded[col].replace(\"\\*\", \"\", regex=True)"
      ],
      "outputs": [],
      "execution_count": 8,
      "metadata": {
        "jupyter": {
          "source_hidden": false,
          "outputs_hidden": false
        },
        "nteract": {
          "transient": {
            "deleting": false
          }
        },
        "gather": {
          "logged": 1681165381490
        }
      }
    },
    {
      "cell_type": "code",
      "source": [
        "data_iu_encoded[[\"w\", \"l\", \"w_c\", \"l_c\"]] = data_iu_encoded[\n",
        "    [\"w\", \"l\", \"w_c\", \"l_c\"]\n",
        "].astype(int)"
      ],
      "outputs": [],
      "execution_count": 9,
      "metadata": {
        "jupyter": {
          "source_hidden": false,
          "outputs_hidden": false
        },
        "nteract": {
          "transient": {
            "deleting": false
          }
        },
        "gather": {
          "logged": 1681165382948
        }
      }
    },
    {
      "cell_type": "markdown",
      "source": [
        "Step: Remove deterministic variables"
      ],
      "metadata": {
        "nteract": {
          "transient": {
            "deleting": false
          }
        }
      }
    },
    {
      "cell_type": "code",
      "source": [
        "columns_drop = [\"season\", \"w_l_%\", \"w_l_%_c\", \"srs\", \"ap_high\", \"seed\"]\n",
        "data_iu_encoded = data_iu_encoded.drop(columns=columns_drop)"
      ],
      "outputs": [],
      "execution_count": 12,
      "metadata": {
        "jupyter": {
          "source_hidden": false,
          "outputs_hidden": false
        },
        "nteract": {
          "transient": {
            "deleting": false
          }
        },
        "gather": {
          "logged": 1681165487877
        }
      }
    },
    {
      "cell_type": "markdown",
      "source": [
        "Step: Save data"
      ],
      "metadata": {
        "nteract": {
          "transient": {
            "deleting": false
          }
        }
      }
    },
    {
      "cell_type": "code",
      "source": [
        "data_iu_encoded.to_parquet(\"data_iu_analysis.parquet\")"
      ],
      "outputs": [],
      "execution_count": 13,
      "metadata": {
        "jupyter": {
          "source_hidden": false,
          "outputs_hidden": false
        },
        "nteract": {
          "transient": {
            "deleting": false
          }
        },
        "gather": {
          "logged": 1681165493058
        }
      }
    }
  ],
  "metadata": {
    "kernelspec": {
      "name": "python38-azureml",
      "language": "python",
      "display_name": "Python 3.8 - AzureML"
    },
    "language_info": {
      "name": "python",
      "version": "3.8.10",
      "mimetype": "text/x-python",
      "codemirror_mode": {
        "name": "ipython",
        "version": 3
      },
      "pygments_lexer": "ipython3",
      "nbconvert_exporter": "python",
      "file_extension": ".py"
    },
    "microsoft": {
      "ms_spell_check": {
        "ms_spell_check_language": "en"
      },
      "host": {
        "AzureML": {
          "notebookHasBeenCompleted": true
        }
      }
    },
    "kernel_info": {
      "name": "python38-azureml"
    },
    "nteract": {
      "version": "nteract-front-end@1.0.0"
    }
  },
  "nbformat": 4,
  "nbformat_minor": 2
}