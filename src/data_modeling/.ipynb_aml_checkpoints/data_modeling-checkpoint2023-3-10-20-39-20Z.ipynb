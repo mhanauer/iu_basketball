{
  "cells": [
    {
      "cell_type": "code",
      "source": [
        "%load_ext lab_black"
      ],
      "outputs": [],
      "execution_count": 1,
      "metadata": {}
    },
    {
      "cell_type": "markdown",
      "source": [
        "Step: Load data"
      ],
      "metadata": {
        "nteract": {
          "transient": {
            "deleting": false
          }
        }
      }
    },
    {
      "cell_type": "code",
      "source": [
        "import pandas as pd\n",
        "import os\n",
        "from pyprojroot import here\n",
        "import numpy as np\n",
        "from skimpy import clean_columns\n",
        "from data_cleaning.fun_hot_encode_limit import fun_hot_encode_limit\n",
        "\n",
        "path_data = here(\"./data\")\n",
        "os.chdir(path_data)\n",
        "data_iu = pd.read_csv(\"iu_data.csv\")\n",
        "data_iu = clean_columns(data_iu)"
      ],
      "outputs": [
        {
          "output_type": "error",
          "ename": "FileNotFoundError",
          "evalue": "[Errno 2] No such file or directory",
          "traceback": [
            "\u001b[0;31m---------------------------------------------------------------------------\u001b[0m",
            "\u001b[0;31mFileNotFoundError\u001b[0m                         Traceback (most recent call last)",
            "Cell \u001b[0;32mIn[13], line 8\u001b[0m\n\u001b[1;32m      5\u001b[0m \u001b[38;5;28;01mfrom\u001b[39;00m \u001b[38;5;21;01mskimpy\u001b[39;00m \u001b[38;5;28;01mimport\u001b[39;00m clean_columns\n\u001b[1;32m      6\u001b[0m \u001b[38;5;28;01mfrom\u001b[39;00m \u001b[38;5;21;01mdata_cleaning\u001b[39;00m\u001b[38;5;21;01m.\u001b[39;00m\u001b[38;5;21;01mfun_hot_encode_limit\u001b[39;00m \u001b[38;5;28;01mimport\u001b[39;00m fun_hot_encode_limit\n\u001b[0;32m----> 8\u001b[0m path_data \u001b[38;5;241m=\u001b[39m \u001b[43mhere\u001b[49m\u001b[43m(\u001b[49m\u001b[38;5;124;43m\"\u001b[39;49m\u001b[38;5;124;43m./data\u001b[39;49m\u001b[38;5;124;43m\"\u001b[39;49m\u001b[43m)\u001b[49m\n\u001b[1;32m      9\u001b[0m os\u001b[38;5;241m.\u001b[39mchdir(path_data)\n\u001b[1;32m     10\u001b[0m data_iu \u001b[38;5;241m=\u001b[39m pd\u001b[38;5;241m.\u001b[39mread_csv(\u001b[38;5;124m\"\u001b[39m\u001b[38;5;124miu_data.csv\u001b[39m\u001b[38;5;124m\"\u001b[39m)\n",
            "File \u001b[0;32m/anaconda/envs/azureml_py38/lib/python3.8/site-packages/pyprojroot/here.py:49\u001b[0m, in \u001b[0;36mhere\u001b[0;34m(relative_project_path, warn_missing)\u001b[0m\n\u001b[1;32m     40\u001b[0m \u001b[38;5;28;01mdef\u001b[39;00m \u001b[38;5;21mhere\u001b[39m(\n\u001b[1;32m     41\u001b[0m     relative_project_path: criterion\u001b[38;5;241m.\u001b[39m_PathType \u001b[38;5;241m=\u001b[39m \u001b[38;5;124m\"\u001b[39m\u001b[38;5;124m\"\u001b[39m, warn_missing: \u001b[38;5;28mbool\u001b[39m \u001b[38;5;241m=\u001b[39m \u001b[38;5;28;01mFalse\u001b[39;00m\n\u001b[1;32m     42\u001b[0m ) \u001b[38;5;241m-\u001b[39m\u001b[38;5;241m>\u001b[39m _pathlib\u001b[38;5;241m.\u001b[39mPath:\n\u001b[1;32m     43\u001b[0m     \u001b[38;5;124;03m\"\"\"\u001b[39;00m\n\u001b[1;32m     44\u001b[0m \u001b[38;5;124;03m    Returns the path relative to the projects root directory.\u001b[39;00m\n\u001b[1;32m     45\u001b[0m \u001b[38;5;124;03m    :param relative_project_path: relative path from project root\u001b[39;00m\n\u001b[1;32m     46\u001b[0m \u001b[38;5;124;03m    :param warn_missing: warn user if path does not exist (default=False)\u001b[39;00m\n\u001b[1;32m     47\u001b[0m \u001b[38;5;124;03m    :return: pathlib path\u001b[39;00m\n\u001b[1;32m     48\u001b[0m \u001b[38;5;124;03m    \"\"\"\u001b[39;00m\n\u001b[0;32m---> 49\u001b[0m     path, reason \u001b[38;5;241m=\u001b[39m \u001b[43mget_here\u001b[49m\u001b[43m(\u001b[49m\u001b[43m)\u001b[49m\n\u001b[1;32m     50\u001b[0m     \u001b[38;5;66;03m# TODO: Show reason when requested\u001b[39;00m\n\u001b[1;32m     52\u001b[0m     \u001b[38;5;28;01mif\u001b[39;00m relative_project_path:\n",
            "File \u001b[0;32m/anaconda/envs/azureml_py38/lib/python3.8/site-packages/pyprojroot/here.py:32\u001b[0m, in \u001b[0;36mget_here\u001b[0;34m()\u001b[0m\n\u001b[1;32m     30\u001b[0m \u001b[38;5;28;01mdef\u001b[39;00m \u001b[38;5;21mget_here\u001b[39m() \u001b[38;5;241m-\u001b[39m\u001b[38;5;241m>\u001b[39m typing\u001b[38;5;241m.\u001b[39mTuple[_pathlib\u001b[38;5;241m.\u001b[39mPath, \u001b[38;5;28mstr\u001b[39m]:\n\u001b[1;32m     31\u001b[0m     \u001b[38;5;66;03m# TODO: This should only find_root once per session\u001b[39;00m\n\u001b[0;32m---> 32\u001b[0m     start \u001b[38;5;241m=\u001b[39m \u001b[43m_pathlib\u001b[49m\u001b[38;5;241;43m.\u001b[39;49m\u001b[43mPath\u001b[49m\u001b[38;5;241;43m.\u001b[39;49m\u001b[43mcwd\u001b[49m\u001b[43m(\u001b[49m\u001b[43m)\u001b[49m\n\u001b[1;32m     33\u001b[0m     path, reason \u001b[38;5;241m=\u001b[39m find_root_with_reason(CRITERIA, start\u001b[38;5;241m=\u001b[39mstart)\n\u001b[1;32m     34\u001b[0m     \u001b[38;5;28;01mreturn\u001b[39;00m path, reason\n",
            "File \u001b[0;32m/anaconda/envs/azureml_py38/lib/python3.8/pathlib.py:1096\u001b[0m, in \u001b[0;36mPath.cwd\u001b[0;34m(cls)\u001b[0m\n\u001b[1;32m   1091\u001b[0m \u001b[38;5;129m@classmethod\u001b[39m\n\u001b[1;32m   1092\u001b[0m \u001b[38;5;28;01mdef\u001b[39;00m \u001b[38;5;21mcwd\u001b[39m(\u001b[38;5;28mcls\u001b[39m):\n\u001b[1;32m   1093\u001b[0m     \u001b[38;5;124;03m\"\"\"Return a new path pointing to the current working directory\u001b[39;00m\n\u001b[1;32m   1094\u001b[0m \u001b[38;5;124;03m    (as returned by os.getcwd()).\u001b[39;00m\n\u001b[1;32m   1095\u001b[0m \u001b[38;5;124;03m    \"\"\"\u001b[39;00m\n\u001b[0;32m-> 1096\u001b[0m     \u001b[38;5;28;01mreturn\u001b[39;00m \u001b[38;5;28mcls\u001b[39m(\u001b[43mos\u001b[49m\u001b[38;5;241;43m.\u001b[39;49m\u001b[43mgetcwd\u001b[49m\u001b[43m(\u001b[49m\u001b[43m)\u001b[49m)\n",
            "\u001b[0;31mFileNotFoundError\u001b[0m: [Errno 2] No such file or directory"
          ]
        }
      ],
      "execution_count": 13,
      "metadata": {
        "jupyter": {
          "source_hidden": false,
          "outputs_hidden": false
        },
        "nteract": {
          "transient": {
            "deleting": false
          }
        },
        "gather": {
          "logged": 1681159136818
        }
      }
    },
    {
      "cell_type": "markdown",
      "source": [
        "Step: Drop year"
      ],
      "metadata": {
        "nteract": {
          "transient": {
            "deleting": false
          }
        }
      }
    },
    {
      "cell_type": "code",
      "source": [
        "data_iu[\"season\"] = data_iu[\"season\"].apply(lambda x: x.split(\"-\")[0])\n",
        "\n",
        "data_iu[\"season\"] = pd.to_datetime(data_iu[\"season\"], format=\"%Y\")\n",
        "\n",
        "data_iu_update = data_iu.query(\"season >= '1949-01-01'\").drop(columns=[\"coach_es\"])"
      ],
      "outputs": [],
      "execution_count": 3,
      "metadata": {
        "jupyter": {
          "source_hidden": false,
          "outputs_hidden": false
        },
        "nteract": {
          "transient": {
            "deleting": false
          }
        },
        "gather": {
          "logged": 1681157054851
        }
      }
    },
    {
      "cell_type": "markdown",
      "source": [
        "Step: Create the outcome variable"
      ],
      "metadata": {
        "nteract": {
          "transient": {
            "deleting": false
          }
        }
      }
    },
    {
      "cell_type": "code",
      "source": [
        "data_ncaa_tournament = pd.get_dummies(data_iu_update[\"ncaa_tournament\"], dummy_na=True)\n",
        "data_ncaa_tournament = clean_columns(data_ncaa_tournament)\n",
        "data_ncaa_tournament = data_ncaa_tournament.rename(columns={\"nan\": \"tournament_make\"})\n",
        "data_ncaa_tournament = np.where(data_ncaa_tournament[\"tournament_make\"] == 0, 1, 0)"
      ],
      "outputs": [
        {
          "output_type": "display_data",
          "data": {
            "text/plain": "\u001b[1;36m7\u001b[0m column names have been cleaned\n",
            "text/html": "<pre style=\"white-space:pre;overflow-x:auto;line-height:normal;font-family:Menlo,'DejaVu Sans Mono',consolas,'Courier New',monospace\"><span style=\"color: #008080; text-decoration-color: #008080; font-weight: bold\">7</span> column names have been cleaned\n</pre>\n"
          },
          "metadata": {}
        }
      ],
      "execution_count": 4,
      "metadata": {
        "jupyter": {
          "source_hidden": false,
          "outputs_hidden": false
        },
        "nteract": {
          "transient": {
            "deleting": false
          }
        },
        "gather": {
          "logged": 1681157057764
        }
      }
    },
    {
      "cell_type": "markdown",
      "source": [
        "Step: Drop date and variables"
      ],
      "metadata": {
        "nteract": {
          "transient": {
            "deleting": false
          }
        }
      }
    },
    {
      "cell_type": "code",
      "source": [
        "data_iu_encoded = pd.concat(\n",
        "    [\n",
        "        data_iu_update.drop(columns=\"ncaa_tournament\"),\n",
        "        pd.DataFrame(data_ncaa_tournament),\n",
        "    ],\n",
        "    axis=1,\n",
        ").rename(columns={0: \"tournament_make\"})"
      ],
      "outputs": [],
      "execution_count": 5,
      "metadata": {
        "jupyter": {
          "source_hidden": false,
          "outputs_hidden": false
        },
        "nteract": {
          "transient": {
            "deleting": false
          }
        },
        "gather": {
          "logged": 1681157059355
        }
      }
    },
    {
      "cell_type": "markdown",
      "source": [
        "Step: Remove *"
      ],
      "metadata": {
        "nteract": {
          "transient": {
            "deleting": false
          }
        }
      }
    },
    {
      "cell_type": "code",
      "source": [
        "columns_to_remove_asterisk = data_iu_encoded.columns\n",
        "columns_to_remove_asterisk"
      ],
      "outputs": [
        {
          "output_type": "execute_result",
          "execution_count": 7,
          "data": {
            "text/plain": "Index(['season', 'w', 'l', 'w_l_%', 'w_c', 'l_c', 'w_l_%_c', 'srs', 'sos',\n       'ps_g', 'pa_g', 'ap_pre', 'ap_high', 'ap_final', 'seed',\n       'tournament_make'],\n      dtype='object')"
          },
          "metadata": {}
        }
      ],
      "execution_count": 7,
      "metadata": {
        "jupyter": {
          "source_hidden": false,
          "outputs_hidden": false
        },
        "nteract": {
          "transient": {
            "deleting": false
          }
        },
        "gather": {
          "logged": 1681157090881
        }
      }
    },
    {
      "cell_type": "code",
      "source": [
        "for col in columns_to_remove_asterisk:\n",
        "    data_iu_encoded[col] = data_iu_encoded[col].replace(\"\\*\", \"\", regex=True)"
      ],
      "outputs": [],
      "execution_count": 8,
      "metadata": {
        "jupyter": {
          "source_hidden": false,
          "outputs_hidden": false
        },
        "nteract": {
          "transient": {
            "deleting": false
          }
        },
        "gather": {
          "logged": 1681157096370
        }
      }
    },
    {
      "cell_type": "code",
      "source": [
        "data_iu_encoded[[\"w\", \"l\", \"w_c\", \"l_c\"]] = data_iu_encoded[\n",
        "    [\"w\", \"l\", \"w_c\", \"l_c\"]\n",
        "].astype(int)"
      ],
      "outputs": [],
      "execution_count": 10,
      "metadata": {
        "jupyter": {
          "source_hidden": false,
          "outputs_hidden": false
        },
        "nteract": {
          "transient": {
            "deleting": false
          }
        },
        "gather": {
          "logged": 1681157150492
        }
      }
    },
    {
      "cell_type": "markdown",
      "source": [
        "Step: Save data"
      ],
      "metadata": {
        "nteract": {
          "transient": {
            "deleting": false
          }
        }
      }
    },
    {
      "cell_type": "code",
      "source": [
        "data_iu_encoded.to_parquet(\"data_iu_analysis.parquet\")"
      ],
      "outputs": [],
      "execution_count": 11,
      "metadata": {
        "jupyter": {
          "source_hidden": false,
          "outputs_hidden": false
        },
        "nteract": {
          "transient": {
            "deleting": false
          }
        },
        "gather": {
          "logged": 1681157152539
        }
      }
    }
  ],
  "metadata": {
    "kernelspec": {
      "name": "python38-azureml",
      "language": "python",
      "display_name": "Python 3.8 - AzureML"
    },
    "language_info": {
      "name": "python",
      "version": "3.8.10",
      "mimetype": "text/x-python",
      "codemirror_mode": {
        "name": "ipython",
        "version": 3
      },
      "pygments_lexer": "ipython3",
      "nbconvert_exporter": "python",
      "file_extension": ".py"
    },
    "microsoft": {
      "ms_spell_check": {
        "ms_spell_check_language": "en"
      },
      "host": {
        "AzureML": {
          "notebookHasBeenCompleted": true
        }
      }
    },
    "kernel_info": {
      "name": "python38-azureml"
    },
    "nteract": {
      "version": "nteract-front-end@1.0.0"
    }
  },
  "nbformat": 4,
  "nbformat_minor": 2
}